{
  "nbformat": 4,
  "nbformat_minor": 0,
  "metadata": {
    "colab": {
      "provenance": []
    },
    "kernelspec": {
      "name": "python3",
      "display_name": "Python 3"
    },
    "language_info": {
      "name": "python"
    }
  },
  "cells": [
    {
      "cell_type": "code",
      "execution_count": 1,
      "metadata": {
        "id": "7dh1ZgJkuaRt"
      },
      "outputs": [],
      "source": [
        "import pandas as pd"
      ]
    },
    {
      "cell_type": "code",
      "source": [
        "sales=pd.read_csv(\"sales_data.csv\",parse_dates=['Date'])\n",
        "\n",
        "\"\"\"Instead of parse_dates, pd.to_datetime(sales_data['Date] can be used)\"\"\""
      ],
      "metadata": {
        "id": "CmDI7f_7Gfvp"
      },
      "execution_count": 2,
      "outputs": []
    }
  ]
}